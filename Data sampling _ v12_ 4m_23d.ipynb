{
 "cells": [
  {
   "cell_type": "code",
   "execution_count": 20,
   "metadata": {},
   "outputs": [],
   "source": [
    "import pandas as pd\n",
    "import matplotlib.pyplot as plt\n",
    "import numpy as np\n",
    "import seaborn as sns\n",
    "##import plotly.plotly as py"
   ]
  },
  {
   "cell_type": "markdown",
   "metadata": {},
   "source": [
    "### sampling with transaction_csv "
   ]
  },
  {
   "cell_type": "markdown",
   "metadata": {},
   "source": [
    "#### dataframe 인덱싱 \n",
    "\n",
    "1) column 불러오기 \n",
    "    dataframe[\"columnnames\"]"
   ]
  },
  {
   "cell_type": "code",
   "execution_count": 18,
   "metadata": {},
   "outputs": [],
   "source": [
    "transaction_all = pd.read_csv(\"transcation_all.csv\")"
   ]
  },
  {
   "cell_type": "code",
   "execution_count": 19,
   "metadata": {
    "collapsed": true
   },
   "outputs": [
    {
     "data": {
      "image/png": "[encoded data removed]",
      "text/plain": [
       "<matplotlib.figure.Figure at 0x207351da588>"
      ]
     },
     "metadata": {},
     "output_type": "display_data"
    }
   ],
   "source": [
    "## coount_sum으로 도수 분포표 만들기\n",
    "\n",
    "# 1. 일단 count_sum으로 정렬하기\n",
    "transaction_all = transaction_all.sort_values(by = \"count_sum\")\n",
    "#transaction_all[\"count_sum\"]\n",
    "plt.hist(transaction_all[\"count_sum\"])\n",
    "plt.title(\"hist_# of transcation\")\n",
    "plt.xlabel(\"the number of transaction _ by user\")\n",
    "plt.ylabel(\"count\")\n",
    "\n",
    "#flg = plt.gcf()\n",
    "#plot_url = py.plt_mpl(flg, filename = \"mlp\")"
   ]
  },
  {
   "cell_type": "code",
   "execution_count": 21,
   "metadata": {},
   "outputs": [
    {
     "data": {
      "text/plain": [
       "<matplotlib.axes._subplots.AxesSubplot at 0x2073a9c7588>"
      ]
     },
     "execution_count": 21,
     "metadata": {},
     "output_type": "execute_result"
    },
    {
     "data": {
      "image/png": "[encoded data removed]",
      "text/plain": [
       "<matplotlib.figure.Figure at 0x2073a71b0b8>"
      ]
     },
     "metadata": {},
     "output_type": "display_data"
    }
   ],
   "source": [
    "sns.distplot(transaction_all[\"count_sum\"])"
   ]
  },
  {
   "cell_type": "code",
   "execution_count": 50,
   "metadata": {},
   "outputs": [
    {
     "ename": "SyntaxError",
     "evalue": "invalid syntax (<ipython-input-50-3e7f3e481bb1>, line 1)",
     "output_type": "error",
     "traceback": [
      "\u001b[1;36m  File \u001b[1;32m\"<ipython-input-50-3e7f3e481bb1>\"\u001b[1;36m, line \u001b[1;32m1\u001b[0m\n\u001b[1;33m    fst_q= np.percentile(transaction_all[\"count_sum\"],[0:25])\u001b[0m\n\u001b[1;37m                                                        ^\u001b[0m\n\u001b[1;31mSyntaxError\u001b[0m\u001b[1;31m:\u001b[0m invalid syntax\n"
     ]
    }
   ],
   "source": [
    "fst_q= np.percentile(transaction_all[\"count_sum\"],[0,25])\n",
    "snd_q = np.percentile(transaction_all[\"count_sum\"],[25,50])\n",
    "trd_q = np.percentile(transaction_all[\"count_sum\"],[50,75])\n",
    "fth_q = np.percentile(transaction_all[\"count_sum\"],[75,100])\n",
    "\n",
    "### dataframe 자제에서 사분위수로 그룹 나누기?\n",
    "\n",
    "#fst_df = transaction_all.quantile(.25)\n",
    "#fst_df"
   ]
  },
  {
   "cell_type": "markdown",
   "metadata": {},
   "source": [
    "### np 이용하지 말고 dataframe indexing 조건문으로 끄집어내기"
   ]
  },
  {
   "cell_type": "code",
   "execution_count": 97,
   "metadata": {
    "scrolled": true
   },
   "outputs": [],
   "source": [
    "#fst_df = transaction_all[transaction_all[\"count_sum\"].quantile(0) < transaction_all[\"count_sum\"].quantile(.25)]"
   ]
  },
  {
   "cell_type": "code",
   "execution_count": 60,
   "metadata": {},
   "outputs": [
    {
     "data": {
      "text/plain": [
       "1.0"
      ]
     },
     "execution_count": 60,
     "metadata": {},
     "output_type": "execute_result"
    }
   ],
   "source": [
    "transaction_all[\"count_sum\"].quantile(0)"
   ]
  },
  {
   "cell_type": "code",
   "execution_count": 59,
   "metadata": {
    "collapsed": true
   },
   "outputs": [
    {
     "ename": "KeyboardInterrupt",
     "evalue": "",
     "output_type": "error",
     "traceback": [
      "\u001b[1;31m---------------------------------------------------------------------------\u001b[0m",
      "\u001b[1;31mTypeError\u001b[0m                                 Traceback (most recent call last)",
      "\u001b[1;32mC:\\ProgramData\\Anaconda3\\lib\\site-packages\\pandas\\core\\groupby.py\u001b[0m in \u001b[0;36mwrapper\u001b[1;34m(*args, **kwargs)\u001b[0m\n\u001b[0;32m    722\u001b[0m             \u001b[1;32mtry\u001b[0m\u001b[1;33m:\u001b[0m\u001b[1;33m\u001b[0m\u001b[0m\n\u001b[1;32m--> 723\u001b[1;33m                 \u001b[1;32mreturn\u001b[0m \u001b[0mself\u001b[0m\u001b[1;33m.\u001b[0m\u001b[0mapply\u001b[0m\u001b[1;33m(\u001b[0m\u001b[0mcurried_with_axis\u001b[0m\u001b[1;33m)\u001b[0m\u001b[1;33m\u001b[0m\u001b[0m\n\u001b[0m\u001b[0;32m    724\u001b[0m             \u001b[1;32mexcept\u001b[0m \u001b[0mException\u001b[0m\u001b[1;33m:\u001b[0m\u001b[1;33m\u001b[0m\u001b[0m\n",
      "\u001b[1;32mC:\\ProgramData\\Anaconda3\\lib\\site-packages\\pandas\\core\\groupby.py\u001b[0m in \u001b[0;36mapply\u001b[1;34m(self, func, *args, **kwargs)\u001b[0m\n\u001b[0;32m   3111\u001b[0m     \u001b[1;32mdef\u001b[0m \u001b[0mapply\u001b[0m\u001b[1;33m(\u001b[0m\u001b[0mself\u001b[0m\u001b[1;33m,\u001b[0m \u001b[0mfunc\u001b[0m\u001b[1;33m,\u001b[0m \u001b[1;33m*\u001b[0m\u001b[0margs\u001b[0m\u001b[1;33m,\u001b[0m \u001b[1;33m**\u001b[0m\u001b[0mkwargs\u001b[0m\u001b[1;33m)\u001b[0m\u001b[1;33m:\u001b[0m\u001b[1;33m\u001b[0m\u001b[0m\n\u001b[1;32m-> 3112\u001b[1;33m         \u001b[1;32mreturn\u001b[0m \u001b[0msuper\u001b[0m\u001b[1;33m(\u001b[0m\u001b[0mSeriesGroupBy\u001b[0m\u001b[1;33m,\u001b[0m \u001b[0mself\u001b[0m\u001b[1;33m)\u001b[0m\u001b[1;33m.\u001b[0m\u001b[0mapply\u001b[0m\u001b[1;33m(\u001b[0m\u001b[0mfunc\u001b[0m\u001b[1;33m,\u001b[0m \u001b[1;33m*\u001b[0m\u001b[0margs\u001b[0m\u001b[1;33m,\u001b[0m \u001b[1;33m**\u001b[0m\u001b[0mkwargs\u001b[0m\u001b[1;33m)\u001b[0m\u001b[1;33m\u001b[0m\u001b[0m\n\u001b[0m\u001b[0;32m   3113\u001b[0m \u001b[1;33m\u001b[0m\u001b[0m\n",
      "\u001b[1;32mC:\\ProgramData\\Anaconda3\\lib\\site-packages\\pandas\\core\\groupby.py\u001b[0m in \u001b[0;36mapply\u001b[1;34m(self, func, *args, **kwargs)\u001b[0m\n\u001b[0;32m    804\u001b[0m         \u001b[1;32mwith\u001b[0m \u001b[0moption_context\u001b[0m\u001b[1;33m(\u001b[0m\u001b[1;34m'mode.chained_assignment'\u001b[0m\u001b[1;33m,\u001b[0m \u001b[1;32mNone\u001b[0m\u001b[1;33m)\u001b[0m\u001b[1;33m:\u001b[0m\u001b[1;33m\u001b[0m\u001b[0m\n\u001b[1;32m--> 805\u001b[1;33m             \u001b[1;32mreturn\u001b[0m \u001b[0mself\u001b[0m\u001b[1;33m.\u001b[0m\u001b[0m_python_apply_general\u001b[0m\u001b[1;33m(\u001b[0m\u001b[0mf\u001b[0m\u001b[1;33m)\u001b[0m\u001b[1;33m\u001b[0m\u001b[0m\n\u001b[0m\u001b[0;32m    806\u001b[0m \u001b[1;33m\u001b[0m\u001b[0m\n",
      "\u001b[1;32mC:\\ProgramData\\Anaconda3\\lib\\site-packages\\pandas\\core\\groupby.py\u001b[0m in \u001b[0;36m_python_apply_general\u001b[1;34m(self, f)\u001b[0m\n\u001b[0;32m    808\u001b[0m         keys, values, mutated = self.grouper.apply(f, self._selected_obj,\n\u001b[1;32m--> 809\u001b[1;33m                                                    self.axis)\n\u001b[0m\u001b[0;32m    810\u001b[0m \u001b[1;33m\u001b[0m\u001b[0m\n",
      "\u001b[1;32mC:\\ProgramData\\Anaconda3\\lib\\site-packages\\pandas\\core\\groupby.py\u001b[0m in \u001b[0;36mapply\u001b[1;34m(self, f, data, axis)\u001b[0m\n\u001b[0;32m   1968\u001b[0m             \u001b[0mgroup_axes\u001b[0m \u001b[1;33m=\u001b[0m \u001b[0m_get_axes\u001b[0m\u001b[1;33m(\u001b[0m\u001b[0mgroup\u001b[0m\u001b[1;33m)\u001b[0m\u001b[1;33m\u001b[0m\u001b[0m\n\u001b[1;32m-> 1969\u001b[1;33m             \u001b[0mres\u001b[0m \u001b[1;33m=\u001b[0m \u001b[0mf\u001b[0m\u001b[1;33m(\u001b[0m\u001b[0mgroup\u001b[0m\u001b[1;33m)\u001b[0m\u001b[1;33m\u001b[0m\u001b[0m\n\u001b[0m\u001b[0;32m   1970\u001b[0m             \u001b[1;32mif\u001b[0m \u001b[1;32mnot\u001b[0m \u001b[0m_is_indexed_like\u001b[0m\u001b[1;33m(\u001b[0m\u001b[0mres\u001b[0m\u001b[1;33m,\u001b[0m \u001b[0mgroup_axes\u001b[0m\u001b[1;33m)\u001b[0m\u001b[1;33m:\u001b[0m\u001b[1;33m\u001b[0m\u001b[0m\n",
      "\u001b[1;32mC:\\ProgramData\\Anaconda3\\lib\\site-packages\\pandas\\core\\groupby.py\u001b[0m in \u001b[0;36mcurried_with_axis\u001b[1;34m(x)\u001b[0m\n\u001b[0;32m    707\u001b[0m             \u001b[1;32mdef\u001b[0m \u001b[0mcurried_with_axis\u001b[0m\u001b[1;33m(\u001b[0m\u001b[0mx\u001b[0m\u001b[1;33m)\u001b[0m\u001b[1;33m:\u001b[0m\u001b[1;33m\u001b[0m\u001b[0m\n\u001b[1;32m--> 708\u001b[1;33m                 \u001b[1;32mreturn\u001b[0m \u001b[0mf\u001b[0m\u001b[1;33m(\u001b[0m\u001b[0mx\u001b[0m\u001b[1;33m,\u001b[0m \u001b[1;33m*\u001b[0m\u001b[0margs\u001b[0m\u001b[1;33m,\u001b[0m \u001b[1;33m**\u001b[0m\u001b[0mkwargs_with_axis\u001b[0m\u001b[1;33m)\u001b[0m\u001b[1;33m\u001b[0m\u001b[0m\n\u001b[0m\u001b[0;32m    709\u001b[0m \u001b[1;33m\u001b[0m\u001b[0m\n",
      "\u001b[1;31mTypeError\u001b[0m: quantile() got an unexpected keyword argument 'axis'",
      "\nDuring handling of the above exception, another exception occurred:\n",
      "\u001b[1;31mKeyboardInterrupt\u001b[0m                         Traceback (most recent call last)",
      "\u001b[1;32m<ipython-input-59-42725e95d931>\u001b[0m in \u001b[0;36m<module>\u001b[1;34m()\u001b[0m\n\u001b[1;32m----> 1\u001b[1;33m \u001b[0mtransaction_all\u001b[0m\u001b[1;33m.\u001b[0m\u001b[0mgroupby\u001b[0m\u001b[1;33m(\u001b[0m\u001b[1;34m\"msno\"\u001b[0m\u001b[1;33m)\u001b[0m\u001b[1;33m[\u001b[0m\u001b[1;34m\"count_sum\"\u001b[0m\u001b[1;33m]\u001b[0m\u001b[1;33m.\u001b[0m\u001b[0mquantile\u001b[0m\u001b[1;33m(\u001b[0m\u001b[1;36m.25\u001b[0m\u001b[1;33m)\u001b[0m\u001b[1;33m\u001b[0m\u001b[0m\n\u001b[0m",
      "\u001b[1;32mC:\\ProgramData\\Anaconda3\\lib\\site-packages\\pandas\\core\\groupby.py\u001b[0m in \u001b[0;36mwrapper\u001b[1;34m(*args, **kwargs)\u001b[0m\n\u001b[0;32m    724\u001b[0m             \u001b[1;32mexcept\u001b[0m \u001b[0mException\u001b[0m\u001b[1;33m:\u001b[0m\u001b[1;33m\u001b[0m\u001b[0m\n\u001b[0;32m    725\u001b[0m                 \u001b[1;32mtry\u001b[0m\u001b[1;33m:\u001b[0m\u001b[1;33m\u001b[0m\u001b[0m\n\u001b[1;32m--> 726\u001b[1;33m                     \u001b[1;32mreturn\u001b[0m \u001b[0mself\u001b[0m\u001b[1;33m.\u001b[0m\u001b[0mapply\u001b[0m\u001b[1;33m(\u001b[0m\u001b[0mcurried\u001b[0m\u001b[1;33m)\u001b[0m\u001b[1;33m\u001b[0m\u001b[0m\n\u001b[0m\u001b[0;32m    727\u001b[0m                 \u001b[1;32mexcept\u001b[0m \u001b[0mException\u001b[0m\u001b[1;33m:\u001b[0m\u001b[1;33m\u001b[0m\u001b[0m\n\u001b[0;32m    728\u001b[0m \u001b[1;33m\u001b[0m\u001b[0m\n",
      "\u001b[1;32mC:\\ProgramData\\Anaconda3\\lib\\site-packages\\pandas\\core\\groupby.py\u001b[0m in \u001b[0;36mapply\u001b[1;34m(self, func, *args, **kwargs)\u001b[0m\n\u001b[0;32m   3110\u001b[0m                       examples=_apply_docs['series_examples']))\n\u001b[0;32m   3111\u001b[0m     \u001b[1;32mdef\u001b[0m \u001b[0mapply\u001b[0m\u001b[1;33m(\u001b[0m\u001b[0mself\u001b[0m\u001b[1;33m,\u001b[0m \u001b[0mfunc\u001b[0m\u001b[1;33m,\u001b[0m \u001b[1;33m*\u001b[0m\u001b[0margs\u001b[0m\u001b[1;33m,\u001b[0m \u001b[1;33m**\u001b[0m\u001b[0mkwargs\u001b[0m\u001b[1;33m)\u001b[0m\u001b[1;33m:\u001b[0m\u001b[1;33m\u001b[0m\u001b[0m\n\u001b[1;32m-> 3112\u001b[1;33m         \u001b[1;32mreturn\u001b[0m \u001b[0msuper\u001b[0m\u001b[1;33m(\u001b[0m\u001b[0mSeriesGroupBy\u001b[0m\u001b[1;33m,\u001b[0m \u001b[0mself\u001b[0m\u001b[1;33m)\u001b[0m\u001b[1;33m.\u001b[0m\u001b[0mapply\u001b[0m\u001b[1;33m(\u001b[0m\u001b[0mfunc\u001b[0m\u001b[1;33m,\u001b[0m \u001b[1;33m*\u001b[0m\u001b[0margs\u001b[0m\u001b[1;33m,\u001b[0m \u001b[1;33m**\u001b[0m\u001b[0mkwargs\u001b[0m\u001b[1;33m)\u001b[0m\u001b[1;33m\u001b[0m\u001b[0m\n\u001b[0m\u001b[0;32m   3113\u001b[0m \u001b[1;33m\u001b[0m\u001b[0m\n\u001b[0;32m   3114\u001b[0m     \u001b[1;33m@\u001b[0m\u001b[0mAppender\u001b[0m\u001b[1;33m(\u001b[0m\u001b[0m_agg_doc\u001b[0m\u001b[1;33m)\u001b[0m\u001b[1;33m\u001b[0m\u001b[0m\n",
      "\u001b[1;32mC:\\ProgramData\\Anaconda3\\lib\\site-packages\\pandas\\core\\groupby.py\u001b[0m in \u001b[0;36mapply\u001b[1;34m(self, func, *args, **kwargs)\u001b[0m\n\u001b[0;32m    803\u001b[0m         \u001b[1;31m# ignore SettingWithCopy here in case the user mutates\u001b[0m\u001b[1;33m\u001b[0m\u001b[1;33m\u001b[0m\u001b[0m\n\u001b[0;32m    804\u001b[0m         \u001b[1;32mwith\u001b[0m \u001b[0moption_context\u001b[0m\u001b[1;33m(\u001b[0m\u001b[1;34m'mode.chained_assignment'\u001b[0m\u001b[1;33m,\u001b[0m \u001b[1;32mNone\u001b[0m\u001b[1;33m)\u001b[0m\u001b[1;33m:\u001b[0m\u001b[1;33m\u001b[0m\u001b[0m\n\u001b[1;32m--> 805\u001b[1;33m             \u001b[1;32mreturn\u001b[0m \u001b[0mself\u001b[0m\u001b[1;33m.\u001b[0m\u001b[0m_python_apply_general\u001b[0m\u001b[1;33m(\u001b[0m\u001b[0mf\u001b[0m\u001b[1;33m)\u001b[0m\u001b[1;33m\u001b[0m\u001b[0m\n\u001b[0m\u001b[0;32m    806\u001b[0m \u001b[1;33m\u001b[0m\u001b[0m\n\u001b[0;32m    807\u001b[0m     \u001b[1;32mdef\u001b[0m \u001b[0m_python_apply_general\u001b[0m\u001b[1;33m(\u001b[0m\u001b[0mself\u001b[0m\u001b[1;33m,\u001b[0m \u001b[0mf\u001b[0m\u001b[1;33m)\u001b[0m\u001b[1;33m:\u001b[0m\u001b[1;33m\u001b[0m\u001b[0m\n",
      "\u001b[1;32mC:\\ProgramData\\Anaconda3\\lib\\site-packages\\pandas\\core\\groupby.py\u001b[0m in \u001b[0;36m_python_apply_general\u001b[1;34m(self, f)\u001b[0m\n\u001b[0;32m    807\u001b[0m     \u001b[1;32mdef\u001b[0m \u001b[0m_python_apply_general\u001b[0m\u001b[1;33m(\u001b[0m\u001b[0mself\u001b[0m\u001b[1;33m,\u001b[0m \u001b[0mf\u001b[0m\u001b[1;33m)\u001b[0m\u001b[1;33m:\u001b[0m\u001b[1;33m\u001b[0m\u001b[0m\n\u001b[0;32m    808\u001b[0m         keys, values, mutated = self.grouper.apply(f, self._selected_obj,\n\u001b[1;32m--> 809\u001b[1;33m                                                    self.axis)\n\u001b[0m\u001b[0;32m    810\u001b[0m \u001b[1;33m\u001b[0m\u001b[0m\n\u001b[0;32m    811\u001b[0m         return self._wrap_applied_output(\n",
      "\u001b[1;32mC:\\ProgramData\\Anaconda3\\lib\\site-packages\\pandas\\core\\groupby.py\u001b[0m in \u001b[0;36mapply\u001b[1;34m(self, f, data, axis)\u001b[0m\n\u001b[0;32m   1967\u001b[0m             \u001b[1;31m# group might be modified\u001b[0m\u001b[1;33m\u001b[0m\u001b[1;33m\u001b[0m\u001b[0m\n\u001b[0;32m   1968\u001b[0m             \u001b[0mgroup_axes\u001b[0m \u001b[1;33m=\u001b[0m \u001b[0m_get_axes\u001b[0m\u001b[1;33m(\u001b[0m\u001b[0mgroup\u001b[0m\u001b[1;33m)\u001b[0m\u001b[1;33m\u001b[0m\u001b[0m\n\u001b[1;32m-> 1969\u001b[1;33m             \u001b[0mres\u001b[0m \u001b[1;33m=\u001b[0m \u001b[0mf\u001b[0m\u001b[1;33m(\u001b[0m\u001b[0mgroup\u001b[0m\u001b[1;33m)\u001b[0m\u001b[1;33m\u001b[0m\u001b[0m\n\u001b[0m\u001b[0;32m   1970\u001b[0m             \u001b[1;32mif\u001b[0m \u001b[1;32mnot\u001b[0m \u001b[0m_is_indexed_like\u001b[0m\u001b[1;33m(\u001b[0m\u001b[0mres\u001b[0m\u001b[1;33m,\u001b[0m \u001b[0mgroup_axes\u001b[0m\u001b[1;33m)\u001b[0m\u001b[1;33m:\u001b[0m\u001b[1;33m\u001b[0m\u001b[0m\n\u001b[0;32m   1971\u001b[0m                 \u001b[0mmutated\u001b[0m \u001b[1;33m=\u001b[0m \u001b[1;32mTrue\u001b[0m\u001b[1;33m\u001b[0m\u001b[0m\n",
      "\u001b[1;32mC:\\ProgramData\\Anaconda3\\lib\\site-packages\\pandas\\core\\groupby.py\u001b[0m in \u001b[0;36mcurried\u001b[1;34m(x)\u001b[0m\n\u001b[0;32m    709\u001b[0m \u001b[1;33m\u001b[0m\u001b[0m\n\u001b[0;32m    710\u001b[0m             \u001b[1;32mdef\u001b[0m \u001b[0mcurried\u001b[0m\u001b[1;33m(\u001b[0m\u001b[0mx\u001b[0m\u001b[1;33m)\u001b[0m\u001b[1;33m:\u001b[0m\u001b[1;33m\u001b[0m\u001b[0m\n\u001b[1;32m--> 711\u001b[1;33m                 \u001b[1;32mreturn\u001b[0m \u001b[0mf\u001b[0m\u001b[1;33m(\u001b[0m\u001b[0mx\u001b[0m\u001b[1;33m,\u001b[0m \u001b[1;33m*\u001b[0m\u001b[0margs\u001b[0m\u001b[1;33m,\u001b[0m \u001b[1;33m**\u001b[0m\u001b[0mkwargs\u001b[0m\u001b[1;33m)\u001b[0m\u001b[1;33m\u001b[0m\u001b[0m\n\u001b[0m\u001b[0;32m    712\u001b[0m \u001b[1;33m\u001b[0m\u001b[0m\n\u001b[0;32m    713\u001b[0m             \u001b[1;31m# preserve the name so we can detect it when calling plot methods,\u001b[0m\u001b[1;33m\u001b[0m\u001b[1;33m\u001b[0m\u001b[0m\n",
      "\u001b[1;32mC:\\ProgramData\\Anaconda3\\lib\\site-packages\\pandas\\core\\series.py\u001b[0m in \u001b[0;36mquantile\u001b[1;34m(self, q, interpolation)\u001b[0m\n\u001b[0;32m   1455\u001b[0m         \u001b[0mself\u001b[0m\u001b[1;33m.\u001b[0m\u001b[0m_check_percentile\u001b[0m\u001b[1;33m(\u001b[0m\u001b[0mq\u001b[0m\u001b[1;33m)\u001b[0m\u001b[1;33m\u001b[0m\u001b[0m\n\u001b[0;32m   1456\u001b[0m \u001b[1;33m\u001b[0m\u001b[0m\n\u001b[1;32m-> 1457\u001b[1;33m         \u001b[0mresult\u001b[0m \u001b[1;33m=\u001b[0m \u001b[0mself\u001b[0m\u001b[1;33m.\u001b[0m\u001b[0m_data\u001b[0m\u001b[1;33m.\u001b[0m\u001b[0mquantile\u001b[0m\u001b[1;33m(\u001b[0m\u001b[0mqs\u001b[0m\u001b[1;33m=\u001b[0m\u001b[0mq\u001b[0m\u001b[1;33m,\u001b[0m \u001b[0minterpolation\u001b[0m\u001b[1;33m=\u001b[0m\u001b[0minterpolation\u001b[0m\u001b[1;33m)\u001b[0m\u001b[1;33m\u001b[0m\u001b[0m\n\u001b[0m\u001b[0;32m   1458\u001b[0m \u001b[1;33m\u001b[0m\u001b[0m\n\u001b[0;32m   1459\u001b[0m         \u001b[1;32mif\u001b[0m \u001b[0mis_list_like\u001b[0m\u001b[1;33m(\u001b[0m\u001b[0mq\u001b[0m\u001b[1;33m)\u001b[0m\u001b[1;33m:\u001b[0m\u001b[1;33m\u001b[0m\u001b[0m\n",
      "\u001b[1;32mC:\\ProgramData\\Anaconda3\\lib\\site-packages\\pandas\\core\\internals.py\u001b[0m in \u001b[0;36mquantile\u001b[1;34m(self, **kwargs)\u001b[0m\n\u001b[0;32m   3436\u001b[0m \u001b[1;33m\u001b[0m\u001b[0m\n\u001b[0;32m   3437\u001b[0m     \u001b[1;32mdef\u001b[0m \u001b[0mquantile\u001b[0m\u001b[1;33m(\u001b[0m\u001b[0mself\u001b[0m\u001b[1;33m,\u001b[0m \u001b[1;33m**\u001b[0m\u001b[0mkwargs\u001b[0m\u001b[1;33m)\u001b[0m\u001b[1;33m:\u001b[0m\u001b[1;33m\u001b[0m\u001b[0m\n\u001b[1;32m-> 3438\u001b[1;33m         \u001b[1;32mreturn\u001b[0m \u001b[0mself\u001b[0m\u001b[1;33m.\u001b[0m\u001b[0mreduction\u001b[0m\u001b[1;33m(\u001b[0m\u001b[1;34m'quantile'\u001b[0m\u001b[1;33m,\u001b[0m \u001b[1;33m**\u001b[0m\u001b[0mkwargs\u001b[0m\u001b[1;33m)\u001b[0m\u001b[1;33m\u001b[0m\u001b[0m\n\u001b[0m\u001b[0;32m   3439\u001b[0m \u001b[1;33m\u001b[0m\u001b[0m\n\u001b[0;32m   3440\u001b[0m     \u001b[1;32mdef\u001b[0m \u001b[0msetitem\u001b[0m\u001b[1;33m(\u001b[0m\u001b[0mself\u001b[0m\u001b[1;33m,\u001b[0m \u001b[1;33m**\u001b[0m\u001b[0mkwargs\u001b[0m\u001b[1;33m)\u001b[0m\u001b[1;33m:\u001b[0m\u001b[1;33m\u001b[0m\u001b[0m\n",
      "\u001b[1;32mC:\\ProgramData\\Anaconda3\\lib\\site-packages\\pandas\\core\\internals.py\u001b[0m in \u001b[0;36mreduction\u001b[1;34m(self, f, axis, consolidate, transposed, **kwargs)\u001b[0m\n\u001b[0;32m   3365\u001b[0m         \u001b[1;32mfor\u001b[0m \u001b[0mb\u001b[0m \u001b[1;32min\u001b[0m \u001b[0mself\u001b[0m\u001b[1;33m.\u001b[0m\u001b[0mblocks\u001b[0m\u001b[1;33m:\u001b[0m\u001b[1;33m\u001b[0m\u001b[0m\n\u001b[0;32m   3366\u001b[0m             \u001b[0mkwargs\u001b[0m\u001b[1;33m[\u001b[0m\u001b[1;34m'mgr'\u001b[0m\u001b[1;33m]\u001b[0m \u001b[1;33m=\u001b[0m \u001b[0mself\u001b[0m\u001b[1;33m\u001b[0m\u001b[0m\n\u001b[1;32m-> 3367\u001b[1;33m             \u001b[0maxe\u001b[0m\u001b[1;33m,\u001b[0m \u001b[0mblock\u001b[0m \u001b[1;33m=\u001b[0m \u001b[0mgetattr\u001b[0m\u001b[1;33m(\u001b[0m\u001b[0mb\u001b[0m\u001b[1;33m,\u001b[0m \u001b[0mf\u001b[0m\u001b[1;33m)\u001b[0m\u001b[1;33m(\u001b[0m\u001b[0maxis\u001b[0m\u001b[1;33m=\u001b[0m\u001b[0maxis\u001b[0m\u001b[1;33m,\u001b[0m \u001b[1;33m**\u001b[0m\u001b[0mkwargs\u001b[0m\u001b[1;33m)\u001b[0m\u001b[1;33m\u001b[0m\u001b[0m\n\u001b[0m\u001b[0;32m   3368\u001b[0m \u001b[1;33m\u001b[0m\u001b[0m\n\u001b[0;32m   3369\u001b[0m             \u001b[0maxes\u001b[0m\u001b[1;33m.\u001b[0m\u001b[0mappend\u001b[0m\u001b[1;33m(\u001b[0m\u001b[0maxe\u001b[0m\u001b[1;33m)\u001b[0m\u001b[1;33m\u001b[0m\u001b[0m\n",
      "\u001b[1;32mC:\\ProgramData\\Anaconda3\\lib\\site-packages\\pandas\\core\\internals.py\u001b[0m in \u001b[0;36mquantile\u001b[1;34m(self, qs, interpolation, axis, mgr)\u001b[0m\n\u001b[0;32m   1644\u001b[0m                     \u001b[0mresult\u001b[0m \u001b[1;33m=\u001b[0m \u001b[0mnp\u001b[0m\u001b[1;33m.\u001b[0m\u001b[0marray\u001b[0m\u001b[1;33m(\u001b[0m\u001b[1;33m[\u001b[0m\u001b[0mself\u001b[0m\u001b[1;33m.\u001b[0m\u001b[0m_na_value\u001b[0m\u001b[1;33m]\u001b[0m \u001b[1;33m*\u001b[0m \u001b[0mlen\u001b[0m\u001b[1;33m(\u001b[0m\u001b[0mself\u001b[0m\u001b[1;33m)\u001b[0m\u001b[1;33m)\u001b[0m\u001b[1;33m\u001b[0m\u001b[0m\n\u001b[0;32m   1645\u001b[0m             \u001b[1;32melse\u001b[0m\u001b[1;33m:\u001b[0m\u001b[1;33m\u001b[0m\u001b[0m\n\u001b[1;32m-> 1646\u001b[1;33m                 \u001b[0mresult\u001b[0m \u001b[1;33m=\u001b[0m \u001b[0m_nanpercentile\u001b[0m\u001b[1;33m(\u001b[0m\u001b[0mvalues\u001b[0m\u001b[1;33m,\u001b[0m \u001b[0mqs\u001b[0m \u001b[1;33m*\u001b[0m \u001b[1;36m100\u001b[0m\u001b[1;33m,\u001b[0m \u001b[0maxis\u001b[0m\u001b[1;33m=\u001b[0m\u001b[0maxis\u001b[0m\u001b[1;33m,\u001b[0m \u001b[1;33m**\u001b[0m\u001b[0mkw\u001b[0m\u001b[1;33m)\u001b[0m\u001b[1;33m\u001b[0m\u001b[0m\n\u001b[0m\u001b[0;32m   1647\u001b[0m \u001b[1;33m\u001b[0m\u001b[0m\n\u001b[0;32m   1648\u001b[0m         \u001b[0mndim\u001b[0m \u001b[1;33m=\u001b[0m \u001b[0mgetattr\u001b[0m\u001b[1;33m(\u001b[0m\u001b[0mresult\u001b[0m\u001b[1;33m,\u001b[0m \u001b[1;34m'ndim'\u001b[0m\u001b[1;33m,\u001b[0m \u001b[1;32mNone\u001b[0m\u001b[1;33m)\u001b[0m \u001b[1;32mor\u001b[0m \u001b[1;36m0\u001b[0m\u001b[1;33m\u001b[0m\u001b[0m\n",
      "\u001b[1;32mC:\\ProgramData\\Anaconda3\\lib\\site-packages\\pandas\\core\\internals.py\u001b[0m in \u001b[0;36m_nanpercentile\u001b[1;34m(values, q, axis, **kw)\u001b[0m\n\u001b[0;32m   1600\u001b[0m                     \u001b[1;32mreturn\u001b[0m \u001b[0mresult\u001b[0m\u001b[1;33m\u001b[0m\u001b[0m\n\u001b[0;32m   1601\u001b[0m             \u001b[1;32melse\u001b[0m\u001b[1;33m:\u001b[0m\u001b[1;33m\u001b[0m\u001b[0m\n\u001b[1;32m-> 1602\u001b[1;33m                 \u001b[1;32mreturn\u001b[0m \u001b[0mnp\u001b[0m\u001b[1;33m.\u001b[0m\u001b[0mpercentile\u001b[0m\u001b[1;33m(\u001b[0m\u001b[0mvalues\u001b[0m\u001b[1;33m,\u001b[0m \u001b[0mq\u001b[0m\u001b[1;33m,\u001b[0m \u001b[0maxis\u001b[0m\u001b[1;33m=\u001b[0m\u001b[0maxis\u001b[0m\u001b[1;33m,\u001b[0m \u001b[1;33m**\u001b[0m\u001b[0mkw\u001b[0m\u001b[1;33m)\u001b[0m\u001b[1;33m\u001b[0m\u001b[0m\n\u001b[0m\u001b[0;32m   1603\u001b[0m \u001b[1;33m\u001b[0m\u001b[0m\n\u001b[0;32m   1604\u001b[0m         \u001b[1;32mfrom\u001b[0m \u001b[0mpandas\u001b[0m \u001b[1;32mimport\u001b[0m \u001b[0mFloat64Index\u001b[0m\u001b[1;33m\u001b[0m\u001b[0m\n",
      "\u001b[1;32mC:\\ProgramData\\Anaconda3\\lib\\site-packages\\numpy\\lib\\function_base.py\u001b[0m in \u001b[0;36mpercentile\u001b[1;34m(a, q, axis, out, overwrite_input, interpolation, keepdims)\u001b[0m\n\u001b[0;32m   4289\u001b[0m     r, k = _ureduce(a, func=_percentile, q=q, axis=axis, out=out,\n\u001b[0;32m   4290\u001b[0m                     \u001b[0moverwrite_input\u001b[0m\u001b[1;33m=\u001b[0m\u001b[0moverwrite_input\u001b[0m\u001b[1;33m,\u001b[0m\u001b[1;33m\u001b[0m\u001b[0m\n\u001b[1;32m-> 4291\u001b[1;33m                     interpolation=interpolation)\n\u001b[0m\u001b[0;32m   4292\u001b[0m     \u001b[1;32mif\u001b[0m \u001b[0mkeepdims\u001b[0m\u001b[1;33m:\u001b[0m\u001b[1;33m\u001b[0m\u001b[0m\n\u001b[0;32m   4293\u001b[0m         \u001b[1;32mreturn\u001b[0m \u001b[0mr\u001b[0m\u001b[1;33m.\u001b[0m\u001b[0mreshape\u001b[0m\u001b[1;33m(\u001b[0m\u001b[0mq\u001b[0m\u001b[1;33m.\u001b[0m\u001b[0mshape\u001b[0m \u001b[1;33m+\u001b[0m \u001b[0mk\u001b[0m\u001b[1;33m)\u001b[0m\u001b[1;33m\u001b[0m\u001b[0m\n",
      "\u001b[1;32mC:\\ProgramData\\Anaconda3\\lib\\site-packages\\numpy\\lib\\function_base.py\u001b[0m in \u001b[0;36m_ureduce\u001b[1;34m(a, func, **kwargs)\u001b[0m\n\u001b[0;32m   4031\u001b[0m         \u001b[0mkeepdim\u001b[0m \u001b[1;33m=\u001b[0m \u001b[1;33m(\u001b[0m\u001b[1;36m1\u001b[0m\u001b[1;33m,\u001b[0m\u001b[1;33m)\u001b[0m \u001b[1;33m*\u001b[0m \u001b[0ma\u001b[0m\u001b[1;33m.\u001b[0m\u001b[0mndim\u001b[0m\u001b[1;33m\u001b[0m\u001b[0m\n\u001b[0;32m   4032\u001b[0m \u001b[1;33m\u001b[0m\u001b[0m\n\u001b[1;32m-> 4033\u001b[1;33m     \u001b[0mr\u001b[0m \u001b[1;33m=\u001b[0m \u001b[0mfunc\u001b[0m\u001b[1;33m(\u001b[0m\u001b[0ma\u001b[0m\u001b[1;33m,\u001b[0m \u001b[1;33m**\u001b[0m\u001b[0mkwargs\u001b[0m\u001b[1;33m)\u001b[0m\u001b[1;33m\u001b[0m\u001b[0m\n\u001b[0m\u001b[0;32m   4034\u001b[0m     \u001b[1;32mreturn\u001b[0m \u001b[0mr\u001b[0m\u001b[1;33m,\u001b[0m \u001b[0mkeepdim\u001b[0m\u001b[1;33m\u001b[0m\u001b[0m\n\u001b[0;32m   4035\u001b[0m \u001b[1;33m\u001b[0m\u001b[0m\n",
      "\u001b[1;32mC:\\ProgramData\\Anaconda3\\lib\\site-packages\\numpy\\lib\\function_base.py\u001b[0m in \u001b[0;36m_percentile\u001b[1;34m(a, q, axis, out, overwrite_input, interpolation, keepdims)\u001b[0m\n\u001b[0;32m   4328\u001b[0m             \u001b[0map\u001b[0m \u001b[1;33m=\u001b[0m \u001b[0ma\u001b[0m\u001b[1;33m.\u001b[0m\u001b[0mflatten\u001b[0m\u001b[1;33m(\u001b[0m\u001b[1;33m)\u001b[0m\u001b[1;33m\u001b[0m\u001b[0m\n\u001b[0;32m   4329\u001b[0m         \u001b[1;32melse\u001b[0m\u001b[1;33m:\u001b[0m\u001b[1;33m\u001b[0m\u001b[0m\n\u001b[1;32m-> 4330\u001b[1;33m             \u001b[0map\u001b[0m \u001b[1;33m=\u001b[0m \u001b[0ma\u001b[0m\u001b[1;33m.\u001b[0m\u001b[0mcopy\u001b[0m\u001b[1;33m(\u001b[0m\u001b[1;33m)\u001b[0m\u001b[1;33m\u001b[0m\u001b[0m\n\u001b[0m\u001b[0;32m   4331\u001b[0m \u001b[1;33m\u001b[0m\u001b[0m\n\u001b[0;32m   4332\u001b[0m     \u001b[1;32mif\u001b[0m \u001b[0maxis\u001b[0m \u001b[1;32mis\u001b[0m \u001b[1;32mNone\u001b[0m\u001b[1;33m:\u001b[0m\u001b[1;33m\u001b[0m\u001b[0m\n",
      "\u001b[1;31mKeyboardInterrupt\u001b[0m: "
     ]
    }
   ],
   "source": [
    "first = transaction_all.groupby(\"msno\")[\"count_sum\"].quantile(.25)"
   ]
  },
  {
   "cell_type": "code",
   "execution_count": 62,
   "metadata": {},
   "outputs": [
    {
     "data": {
      "text/plain": [
       "1.0"
      ]
     },
     "execution_count": 62,
     "metadata": {},
     "output_type": "execute_result"
    }
   ],
   "source": [
    "transaction_all.count_sum.quantile(0.25)"
   ]
  },
  {
   "cell_type": "code",
   "execution_count": 77,
   "metadata": {},
   "outputs": [
    {
     "data": {
      "text/plain": [
       "0"
      ]
     },
     "execution_count": 77,
     "metadata": {},
     "output_type": "execute_result"
    }
   ],
   "source": [
    "## 반복문 처리를 위해 array 로 처리\n",
    "\n",
    "quantile_data = transaction_all[[\"msno\",\"count_sum\"]]\n",
    "\n",
    "quantile_array = quantile_data.values\n",
    "\n",
    "\n",
    "# 반복문 처리하기\n",
    "\n",
    "#quantile_array[0][1]\n",
    "\n",
    "quantile_1 = round(len(quantile_array) * 0.25) \n",
    "quantile_2 = round(len(quantile_array) * 0.5)\n",
    "quantile_3 = round(len(quantile_array) * 0.75)\n",
    "quantile_4 = round(len(quantile_array) * 1)\n",
    "\n",
    "#print(quantile_1,quantile_2,quantile_3,quantile_4)\n",
    "#quantile_4 - (quantile_2 - quantile_1 + quantile_3 - quantile_2 + quantile_4 - quantile_3 + quantile_1)"
   ]
  },
  {
   "cell_type": "code",
   "execution_count": 79,
   "metadata": {},
   "outputs": [],
   "source": [
    "group_1 = []\n",
    "group_2 = [] \n",
    "group_3 = []\n",
    "group_4 = []\n",
    "\n",
    "for num in range(len(quantile_array)):\n",
    "    if num < quantile_1 :\n",
    "        group_1.append(quantile_array[num])\n",
    "    elif num < quantile_2 :\n",
    "        group_2.append(quantile_array[num])\n",
    "    elif num < quantile_3 :\n",
    "        group_3.append(quantile_array[num])\n",
    "    else : \n",
    "        group_4.append(quantile_array[num])\n",
    "\n"
   ]
  },
  {
   "cell_type": "code",
   "execution_count": 83,
   "metadata": {},
   "outputs": [
    {
     "name": "stdout",
     "output_type": "stream",
     "text": [
      "292697 292697 292698 292697\n",
      "0\n"
     ]
    }
   ],
   "source": [
    "print(len(group_1),len(group_2),len(group_3),len(group_4))\n",
    "print(len(group_1)+len(group_2)+len(group_3)+len(group_4)- len(quantile_array))"
   ]
  },
  {
   "cell_type": "markdown",
   "metadata": {},
   "source": [
    "### churn 데이터 불러오기 "
   ]
  },
  {
   "cell_type": "code",
   "execution_count": 92,
   "metadata": {},
   "outputs": [],
   "source": [
    "churn_v2 = pd.read_csv(\"D:/Users/Kwon/Desktop/DATABASE/kkbox-churn-prediction-challenge/first/train_v2.csv/data/churn_comp_refresh/train_v2.csv\")\n",
    "churn_v1 = pd.read_csv(\"D:/Users/Kwon/Desktop/DATABASE/kkbox-churn-prediction-challenge/train.csv/train.csv\")"
   ]
  },
  {
   "cell_type": "code",
   "execution_count": 127,
   "metadata": {},
   "outputs": [],
   "source": [
    "ch_count_v1 = pd.DataFrame(churn_v1[\"is_churn\"].value_counts())\n",
    "ch_count_v2 = pd.DataFrame(churn_v2[\"is_churn\"].value_counts())\n",
    "\n",
    "\n",
    "#x = len(ch_count_v1[0])\n",
    "\n",
    "#x_v1 = ch_count_v1.loc[0] + ch_count_v1.loc[1]\n",
    "#y_v1 = [ch_count_v1[\"is_churn\"][0],ch_count_v1[\"is_churn\"][1]]\n",
    "\n",
    "\n",
    "#plt.hist(churn_v1[\"is_churn\"])\n",
    "#sns.distplot(churn_v1[\"is_churn\"])"
   ]
  },
  {
   "cell_type": "code",
   "execution_count": 144,
   "metadata": {},
   "outputs": [
    {
     "data": {
      "text/plain": [
       "1082190"
      ]
     },
     "execution_count": 144,
     "metadata": {},
     "output_type": "execute_result"
    }
   ],
   "source": [
    "churn_all =churn_v1.append(churn_v2)\n",
    "len(churn_all),len(churn_v1),len(churn_v2)\n",
    "ch_groupby = churn_all.groupby(\"msno\").aggregate(\"mean\")\n",
    "ch_groupby\n",
    "#ch_groupby = churn_all.groupby(by = \"msno\").aggregate\n",
    "len(ch_groupby)"
   ]
  },
  {
   "cell_type": "code",
   "execution_count": 146,
   "metadata": {},
   "outputs": [
    {
     "data": {
      "text/plain": [
       "0.0    942441\n",
       "1.0     93759\n",
       "0.5     45990\n",
       "Name: is_churn, dtype: int64"
      ]
     },
     "execution_count": 146,
     "metadata": {},
     "output_type": "execute_result"
    }
   ],
   "source": [
    "ch_groupby[\"is_churn\"].value_counts()\n",
    "### 0.5 가 나온 경우는 is_churn 이 바뀐 경우이다. 이경우는 중요한 outlier 라\n",
    "## 생각되기 때문에 ( = 영양점 ) 일단 제외시키고 데이터를 돌린다."
   ]
  },
  {
   "cell_type": "code",
   "execution_count": 214,
   "metadata": {},
   "outputs": [
    {
     "data": {
      "text/plain": [
       "0.0    942441\n",
       "1.0     93759\n",
       "Name: is_churn, dtype: int64"
      ]
     },
     "execution_count": 214,
     "metadata": {},
     "output_type": "execute_result"
    }
   ],
   "source": [
    "#ch_g_array = ch_groupby.values\n",
    "#len(ch_g_array)\n",
    "de_1 = ch_groupby[ch_groupby[\"is_churn\"] == 0.5].index.values\n",
    "ch_g_same = ch_groupby.drop(de_1,axis = 0)\n",
    "ch_g_same[\"is_churn\"].value_counts()\n",
    "#ch_g_same"
   ]
  },
  {
   "cell_type": "markdown",
   "metadata": {},
   "source": [
    "###### array 에서 특정 값을 index( 위치 )로 지우는 법\n",
    "\n",
    "array1 = np.array([1,2,3,4,5,6,8,8,9])\n",
    "\n",
    "array1 = np.delete(array1,[0,8])\n"
   ]
  },
  {
   "cell_type": "code",
   "execution_count": 215,
   "metadata": {},
   "outputs": [],
   "source": [
    "gd_1 = pd.DataFrame(group_1,columns = [\"msno\",\"count_sum\"])\n",
    "gd_2 = pd.DataFrame(group_2,columns = [\"msno\",\"count_sum\"])\n",
    "gd_3 = pd.DataFrame(group_3,columns = [\"msno\",\"count_sum\"])\n",
    "gd_4 = pd.DataFrame(group_4,columns = [\"msno\",\"count_sum\"])\n",
    "\n",
    "##### 각 그룹에 있는 유저들 churn data merge 하기\n",
    "\n",
    "### ch_g_same 에 있는 index를 column으로 바꾸기\n",
    "ch_g_same.reset_index(level= 0,inplace = True)\n"
   ]
  },
  {
   "cell_type": "code",
   "execution_count": 219,
   "metadata": {},
   "outputs": [],
   "source": [
    "g1 = pd.merge(left = gd_1, right = ch_g_same,on=[\"msno\"], how = \"inner\")\n",
    "g2 = pd.merge(left = gd_2, right = ch_g_same,on=[\"msno\"], how = \"inner\")\n",
    "g3 = pd.merge(left = gd_3, right = ch_g_same,on=[\"msno\"], how = \"inner\")\n",
    "g4 = pd.merge(left = gd_1, right = ch_g_same,on=[\"msno\"], how = \"inner\")\n",
    " "
   ]
  },
  {
   "cell_type": "code",
   "execution_count": 223,
   "metadata": {},
   "outputs": [
    {
     "data": {
      "text/plain": [
       "373093"
      ]
     },
     "execution_count": 223,
     "metadata": {},
     "output_type": "execute_result"
    }
   ],
   "source": [
    "len(quantile_array)-len(g1)-len(g2)-len(g3)-len(g4)\n",
    "#### 기존의 그릅에서 373,093 개가 누락됨\n",
    "###  is_churn = 0.5로 지운 수는 45990 뿐이다."
   ]
  },
  {
   "cell_type": "code",
   "execution_count": 226,
   "metadata": {},
   "outputs": [],
   "source": [
    "#############3 이제 각 그룹에서 250 명씩만 sameling 하면 된다 . churn 비율 1:1 로"
   ]
  },
  {
   "cell_type": "code",
   "execution_count": 245,
   "metadata": {},
   "outputs": [
    {
     "data": {
      "text/plain": [
       "0         YsXwIShInkLWmLCl38a7hT7QyuhGkRuMeNloTUSBp5s=\n",
       "1         YsYF8ns6BogaWMJ4V7QE+q/m/i3ASXZwtShvZxF1iV0=\n",
       "2         YsYbVY/+69rnwOs6k11AZyVyHlEp7RbkvFezPTCxeMc=\n",
       "3         YsaXD7R8umecRTnN3hkMwtlz7egG+wlNCf+D8A/udXk=\n",
       "4         Ysd+JAlEGHt/a6GSwszsXfokud6AzGOWrlM4rUPI8mY=\n",
       "5         YsdVaoGrSc14Y7V6DdfjubE8ROHCdqOgXQDb7iECwOQ=\n",
       "6         Yse38YbPbGx1H4lqmuiePPN6a3VyB2Ypjk+FhM+u7UM=\n",
       "7         YseWgHNpCLXYwuWkuEIlfVFfgfhRMUrCURkfGWqtZkw=\n",
       "8         YsetgorOY3srRnj/INden7XZNd22YTJQ7LeQoOgUBiw=\n",
       "9         Ysf/XBDC0wEvHg4kTHHF5wtzjGD/Zpeva7gL6XEbddM=\n",
       "10        YsfBgxXoNSqiHGTutHHd+Uyc3SzpUeM7xHb2840q0W4=\n",
       "11        YsgP5gYfqAaS/htbS55m9v4cHV2K3h7eCCtRRP1dNYU=\n",
       "12        YsgWK7HhtgqNMxBnebbeCOtxzmR3ozgHy2bLq2mTJ1M=\n",
       "13        YsgqGNwT0FRnz43CDHwBGjZZo8sQQFsiQ64TcullUvc=\n",
       "14        YshaQB6VkGlBJvL0F7bWeu+8yMdHk6+wM6EUimRcp8o=\n",
       "15        YsiEfn++fbgD6G8eUnnxXTSiKgpQgW6p4Mm7MdQniFU=\n",
       "16        YsXMgwzn3TtoHKtP799BbXuzrwPPgy0x8IzRpWPyhS8=\n",
       "17        YsWHM8HfzdtvlqVIA+gFxfU2jonXbsckSh6F3IF6VRU=\n",
       "18        YsOn0nEnTRG+hl4oPwn1dcwtzIkeX9PcyWPGk3b7694=\n",
       "19        YsP+jQ8nNMYNA5B4LbxpeKCT3M0r5KJH8e5qDo8IULI=\n",
       "20        YsP7Z70g3upyArblW0cqMgglHXUbG65VWb6yuomjnuY=\n",
       "21        YsPVkHGrtxZ5HEtCQHpRd5NPWWSVsCsHSYMQJa7/d/0=\n",
       "22        YsQ5kfYZ87qeLFDGbt0dCdIpyuG4HzP/AbvwCY8PMB4=\n",
       "23        YsRMjtObscJaLotZbFOnWdFWm2zpxzfnYyc328nReUw=\n",
       "24        YsS/2W115FHQ79GnlGOhNgb4LBF9verLaxx9gXIwxMk=\n",
       "25        YsXMPXU6H2fbIK5jB4aXZ41xrxeiAW0kImIy9DuZuUU=\n",
       "26        YsTWN0QbDTumrjC+xDIYZUEhskgOfAG3cU95nGvrpXs=\n",
       "27        YsUKDPykrlNTMWli73ZF+qJm0z855iIP+2BuxdK/co8=\n",
       "28        YsVCLGhP754KUOBg1OqgXP/pC20bW1m0Rf7p5Uq7ymw=\n",
       "29        YsVX2tR53hANqHcWgVt8dRB36k5W5FfmuLnm+T7+JLI=\n",
       "                              ...                     \n",
       "189510    z4E/ZXSlOGP/N9LUfqdg0NRK0KDL2pWgrJB47Ef5/lE=\n",
       "189511    z4EWN/jHIso30IKIyuQmkcZ8sibHjXb5BUhysHICYTc=\n",
       "189512    z4EqNtKNZMZYXNmqQCfUFDhyuT/DS77lSSKaD9bxEdU=\n",
       "189513    z4AdA6PtXBRPjezj7eKglInCwtxG3ATsCKHtX+pXzRo=\n",
       "189514    z4FVcfcOSPKNIjhGppYCqAna6rWQhuyQdUmQgpcxE1k=\n",
       "189515    z41KXIwHyDpLgm9/RB5cTbra51dmsqi5s9gjd5kXVu8=\n",
       "189516    z3wibcK1SQYydVfps/q/e7lF359CxaQI0YyrqQn8A74=\n",
       "189517    z3wjplZoS9FluuHL31J+8RHvU20ymyCCBEjXV5Ua8Kk=\n",
       "189518    z3yFa5nIwpWXHaB0+XcOfw+FhWGhRmfuGh8y88Q/l6U=\n",
       "189519    z3ydIVAcmwmSRTd6j2TgdQITNEM3CSg2ola5nYuI/Ig=\n",
       "189520    z3yhhETU8j8XiARIBKy0dlmbQhqENZ9/Vt6OZRWIFIQ=\n",
       "189521    z41hHKd4sRY6m1EHlcr9Jpr04M45eT2vSNPMcNxdwCs=\n",
       "189522    z3yq4CN0pR66anWyiiReVuu5mZLq0kRZz3rRL4vFI5s=\n",
       "189523    z4+5A7/vGGyY9hs4O31GomWpahZITJTxajpyJuzJmCQ=\n",
       "189524    z4+c9DdedPIU3ZUptLBezZcE9ZlLcVQPbO8QJBGHQJc=\n",
       "189525    z4+kpGidp0/1U7f3SsBMCt5SK1V+EaAH2vDrdIApJKk=\n",
       "189526    z4/+TgvfjDk4J24GxVkKg1cIjQJirVjDb3uGZt09OCk=\n",
       "189527    z4/JH9FOHIGiWYGqNN5D5RFZSGupML0ympXpD4eDE9E=\n",
       "189528    z4/gbiVjPM9NbiMt6N7dFLl2oMFRkakJMfg6kXN+78E=\n",
       "189529    z409pkWnIfPuThqH2Mdonp5iREQKUcZNaQ8V1wr71Tw=\n",
       "189530    z40XL65m8Se999iZGmX2TubMZBJwU9i6OqtG8wfZalg=\n",
       "189532    z411INgskoTTq5OBHY3LQT0QUy5ZoYH2ptbSfG7kyfw=\n",
       "189533    z3zUVTL7L69J6SmXyJb+MWNbODT8WFXvw7OPrNPKf7g=\n",
       "189534    z4H0/fZsOn1NxGDzq69D74IAY8XAC+Z5j8cUIorWHfg=\n",
       "189535    z4T5TZmjf7kxfjsVQ8kA2SLIpvF9Pa7AMIU+tJ+KS/o=\n",
       "189536    z4VK6jLJkVEN+7YB8YXyiKeGl0p7NFQ03cG7Zhk3kYE=\n",
       "189537    z4VjFPSsE5iNHi8qZDMs8zBtl+mWHBr8i8PDOfQRO4M=\n",
       "189538    z4VlD0BnVc4yDItzQCUDBXJSAf8q5MuOG/jADNW2RVs=\n",
       "189539    z4Vxc5ekGlk5rDjklh0IQw8DP3QAbJu9l5QG5r3oeTE=\n",
       "189540    z4W24wBwvon/4wBPtvC/qnb/LxycYsSKVl2jdWoyYrk=\n",
       "Name: msno, Length: 176283, dtype: object"
      ]
     },
     "execution_count": 245,
     "metadata": {},
     "output_type": "execute_result"
    }
   ],
   "source": [
    "g1_0 = g1[g1[\"is_churn\"] == 0][\"msno\"]\n",
    "g1_1 = g1[g1[\"is_churn\"] == 1][\"msno\"]\n",
    "\n",
    "g2_0 = g2[g2[\"is_churn\"] == 0][\"msno\"]\n",
    "g2_1 = g2[g2[\"is_churn\"] == 1][\"msno\"]\n",
    "\n",
    "g3_0 = g3[g3[\"is_churn\"] == 0][\"msno\"]\n",
    "g3_1 = g3[g3[\"is_churn\"] == 1][\"msno\"]\n",
    "\n",
    "g4_0 = g4[g4[\"is_churn\"] == 0][\"msno\"]\n",
    "g4_1 = g4[g4[\"is_churn\"] == 1][\"msno\"]\n",
    "\n"
   ]
  },
  {
   "cell_type": "code",
   "execution_count": 247,
   "metadata": {},
   "outputs": [],
   "source": [
    "rand_g1_0 = np.random.choice(g1_0,125)\n",
    "rand_g1_1 = np.random.choice(g1_1,125)\n",
    "\n",
    "rand_g2_0 = np.random.choice(g2_0,125)\n",
    "rand_g2_1 = np.random.choice(g2_1,125)\n",
    "\n",
    "rand_g3_0 = np.random.choice(g3_0,125)\n",
    "rand_g3_1 = np.random.choice(g3_1,125)\n",
    "\n",
    "rand_g4_0 = np.random.choice(g4_0,125)\n",
    "rand_g4_1 = np.random.choice(g4_1,125)\n",
    "\n"
   ]
  },
  {
   "cell_type": "code",
   "execution_count": 253,
   "metadata": {},
   "outputs": [
    {
     "data": {
      "text/plain": [
       "0    0.923213\n",
       "1    0.076787\n",
       "Name: is_churn, dtype: float64"
      ]
     },
     "execution_count": 253,
     "metadata": {},
     "output_type": "execute_result"
    }
   ],
   "source": [
    "churn_all[\"is_churn\"].value_counts(\"Nah\")"
   ]
  },
  {
   "cell_type": "code",
   "execution_count": 254,
   "metadata": {},
   "outputs": [
    {
     "data": {
      "text/plain": [
       "(1963891, 1082190)"
      ]
     },
     "execution_count": 254,
     "metadata": {},
     "output_type": "execute_result"
    }
   ],
   "source": [
    "len(churn_all),len(ch_groupby)"
   ]
  },
  {
   "cell_type": "code",
   "execution_count": null,
   "metadata": {},
   "outputs": [],
   "source": []
  }
 ],
 "metadata": {
  "kernelspec": {
   "display_name": "Python 3",
   "language": "python",
   "name": "python3"
  },
  "language_info": {
   "codemirror_mode": {
    "name": "ipython",
    "version": 3
   },
   "file_extension": ".py",
   "mimetype": "text/x-python",
   "name": "python",
   "nbconvert_exporter": "python",
   "pygments_lexer": "ipython3",
   "version": "3.6.4"
  }
 },
 "nbformat": 4,
 "nbformat_minor": 2
}
